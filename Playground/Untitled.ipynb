{
 "cells": [
  {
   "cell_type": "code",
   "execution_count": 1,
   "metadata": {},
   "outputs": [
    {
     "name": "stdout",
     "output_type": "stream",
     "text": [
      "This is GBot dialog system. Let's talk.\n",
      "\n",
      "Hi, what is your name?\n"
     ]
    },
    {
     "name": "stdin",
     "output_type": "stream",
     "text": [
      " 安安\n"
     ]
    },
    {
     "name": "stdout",
     "output_type": "stream",
     "text": [
      "Hello, 安安.\n",
      "How are you today?\n"
     ]
    },
    {
     "name": "stdin",
     "output_type": "stream",
     "text": [
      " 碎石\n"
     ]
    },
    {
     "name": "stdout",
     "output_type": "stream",
     "text": [
      "I'm sorry to hear that.\n",
      "what's your favotite color?\n"
     ]
    },
    {
     "name": "stdin",
     "output_type": "stream",
     "text": [
      " 灯带\n"
     ]
    },
    {
     "name": "stdout",
     "output_type": "stream",
     "text": [
      "You like 灯带?, my favorite color is blue.\n"
     ]
    }
   ],
   "source": [
    "import time\n",
    "\n",
    "class Bot:\n",
    "    wait = 1\n",
    "    def __init__(self):\n",
    "        self.q = ''\n",
    "        self.a = ''\n",
    "    def _think(self,s):\n",
    "        return s\n",
    "    def run(self):\n",
    "        time.sleep(Bot.wait)\n",
    "        print(self.q)\n",
    "        self.a = input()\n",
    "        time.sleep(Bot.wait)\n",
    "        print(self._think(self.a))\n",
    "        \n",
    "class HelloBot(Bot):\n",
    "    def __init__(self):\n",
    "        self.q = 'Hi, what is your name?'\n",
    "    def _think(self,s):\n",
    "        return f\"Hello, {s}.\"\n",
    "    \n",
    "class GreetingBot(Bot):\n",
    "    def __init__(self):\n",
    "        self.q = \"How are you today?\"\n",
    "    def _think(self,s):\n",
    "        if 'good' in s.lower() or 'fine' in s.lower():\n",
    "            return f\"I'm feeling good too.\"\n",
    "        else:\n",
    "            return f\"I'm sorry to hear that.\"\n",
    "        \n",
    "import random\n",
    "\n",
    "class FavoriteColorBot(Bot):\n",
    "    def __init__(self):\n",
    "        self.q = \"what's your favotite color?\"\n",
    "    def _think(self,s):\n",
    "        colors = ['red','orange','blue','white','yellow','green','black','purple']\n",
    "        return f\"You like {s.lower()}?, my favorite color is {random.choice(colors)}.\"\n",
    "    \n",
    "class GBot:\n",
    "    def __init__(self,wait = 1):\n",
    "        Bot.wait = wait\n",
    "        self.bots = []\n",
    "    def add(self, bot):\n",
    "        self.bots.append(bot)\n",
    "    def _prompt(self,s):\n",
    "        print(s)\n",
    "        print()\n",
    "    def run(self):\n",
    "        self._prompt(\"This is GBot dialog system. Let's talk.\")\n",
    "        for bot in self.bots:\n",
    "            bot.run()\n",
    "            \n",
    "gg = GBot(1)\n",
    "gg.add(HelloBot())\n",
    "gg.add(GreetingBot())\n",
    "gg.add(FavoriteColorBot())\n",
    "gg.run()"
   ]
  },
  {
   "cell_type": "code",
   "execution_count": null,
   "metadata": {},
   "outputs": [],
   "source": []
  }
 ],
 "metadata": {
  "kernelspec": {
   "display_name": "Python 3",
   "language": "python",
   "name": "python3"
  },
  "language_info": {
   "codemirror_mode": {
    "name": "ipython",
    "version": 3
   },
   "file_extension": ".py",
   "mimetype": "text/x-python",
   "name": "python",
   "nbconvert_exporter": "python",
   "pygments_lexer": "ipython3",
   "version": "3.7.4"
  }
 },
 "nbformat": 4,
 "nbformat_minor": 4
}
